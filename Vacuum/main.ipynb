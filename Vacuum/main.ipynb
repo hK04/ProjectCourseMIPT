{
 "cells": [
  {
   "cell_type": "code",
   "execution_count": 23,
   "metadata": {},
   "outputs": [],
   "source": [
    "import pandas as pd\n",
    "import numpy as np\n",
    "import seaborn as sns\n",
    "import matplotlib.pyplot as plt\n",
    "import scipy.stats as stats\n",
    "from   scipy.special import factorial, gamma, gammainc\n",
    "from scipy.optimize import curve_fit\n",
    "from scipy.stats import chisquare"
   ]
  },
  {
   "cell_type": "code",
   "execution_count": 47,
   "metadata": {},
   "outputs": [],
   "source": [
    "def chi_square_metrics(expected, observed) -> float:\n",
    "    #print(observed.var()), .var()\n",
    "    return ((expected - observed) ** 2 / observed).sum()"
   ]
  },
  {
   "cell_type": "code",
   "execution_count": 2,
   "metadata": {},
   "outputs": [],
   "source": [
    "sns.set_style('darkgrid')"
   ]
  },
  {
   "cell_type": "code",
   "execution_count": 3,
   "metadata": {},
   "outputs": [],
   "source": [
    "data_2 = pd.read_csv('Untitled spreadsheet - Sheet1 (1).csv')"
   ]
  },
  {
   "cell_type": "code",
   "execution_count": 4,
   "metadata": {},
   "outputs": [
    {
     "data": {
      "text/html": [
       "<div>\n",
       "<style scoped>\n",
       "    .dataframe tbody tr th:only-of-type {\n",
       "        vertical-align: middle;\n",
       "    }\n",
       "\n",
       "    .dataframe tbody tr th {\n",
       "        vertical-align: top;\n",
       "    }\n",
       "\n",
       "    .dataframe thead th {\n",
       "        text-align: right;\n",
       "    }\n",
       "</style>\n",
       "<table border=\"1\" class=\"dataframe\">\n",
       "  <thead>\n",
       "    <tr style=\"text-align: right;\">\n",
       "      <th></th>\n",
       "      <th>t</th>\n",
       "      <th>p</th>\n",
       "      <th>t1</th>\n",
       "      <th>p1</th>\n",
       "    </tr>\n",
       "  </thead>\n",
       "  <tbody>\n",
       "    <tr>\n",
       "      <th>0</th>\n",
       "      <td>0</td>\n",
       "      <td>0.65</td>\n",
       "      <td>0.0</td>\n",
       "      <td>4.2</td>\n",
       "    </tr>\n",
       "    <tr>\n",
       "      <th>1</th>\n",
       "      <td>4</td>\n",
       "      <td>0.66</td>\n",
       "      <td>1.0</td>\n",
       "      <td>3.7</td>\n",
       "    </tr>\n",
       "    <tr>\n",
       "      <th>2</th>\n",
       "      <td>6</td>\n",
       "      <td>0.67</td>\n",
       "      <td>1.5</td>\n",
       "      <td>3.3</td>\n",
       "    </tr>\n",
       "    <tr>\n",
       "      <th>3</th>\n",
       "      <td>8</td>\n",
       "      <td>0.69</td>\n",
       "      <td>2.0</td>\n",
       "      <td>2.9</td>\n",
       "    </tr>\n",
       "    <tr>\n",
       "      <th>4</th>\n",
       "      <td>9</td>\n",
       "      <td>0.73</td>\n",
       "      <td>2.5</td>\n",
       "      <td>2.6</td>\n",
       "    </tr>\n",
       "  </tbody>\n",
       "</table>\n",
       "</div>"
      ],
      "text/plain": [
       "   t     p   t1   p1\n",
       "0  0  0.65  0.0  4.2\n",
       "1  4  0.66  1.0  3.7\n",
       "2  6  0.67  1.5  3.3\n",
       "3  8  0.69  2.0  2.9\n",
       "4  9  0.73  2.5  2.6"
      ]
     },
     "execution_count": 4,
     "metadata": {},
     "output_type": "execute_result"
    }
   ],
   "source": [
    "data_2.head()"
   ]
  },
  {
   "cell_type": "code",
   "execution_count": 5,
   "metadata": {},
   "outputs": [
    {
     "data": {
      "text/plain": [
       "Text(0, 0.5, 'p, торр $\\\\cdot 10^{-4}$')"
      ]
     },
     "execution_count": 5,
     "metadata": {},
     "output_type": "execute_result"
    },
    {
     "data": {
      "image/png": "[encoded data removed]",
      "text/plain": [
       "<Figure size 720x504 with 1 Axes>"
      ]
     },
     "metadata": {
      "needs_background": "light"
     },
     "output_type": "display_data"
    }
   ],
   "source": [
    "plt.figure(figsize=(10, 7))\n",
    "\n",
    "plt.errorbar(data_2['t'][1:], data_2['p'][1:], xerr=0.1, yerr=0.1, linestyle = '', label = 'Данные')\n",
    "\n",
    " \n",
    "k0, b0 = np.polyfit(data_2['t'][1:], data_2['p'][1:], 1) \n",
    "\n",
    "plt.plot(data_2['t'][1:], data_2['t'][1:] * k0 + b0, color = 'red', label = 'МНК', )\n",
    "\n",
    "plt.xlabel('Время t(c)')\n",
    "plt.ylabel('Давление, мм.рт.стлб * 10^-4')\n",
    "plt.legend()\n",
    "\n",
    "\n",
    "plt.xlabel('t, с')\n",
    "plt.ylabel(r'p, торр $\\cdot 10^{-4}$')"
   ]
  },
  {
   "cell_type": "code",
   "execution_count": 52,
   "metadata": {},
   "outputs": [
    {
     "data": {
      "text/plain": [
       "0.0"
      ]
     },
     "execution_count": 52,
     "metadata": {},
     "output_type": "execute_result"
    }
   ],
   "source": [
    "chi_square_metrics(data_2['t'], data_2['t'])"
   ]
  },
  {
   "cell_type": "code",
   "execution_count": 46,
   "metadata": {},
   "outputs": [
    {
     "name": "stdout",
     "output_type": "stream",
     "text": [
      "2.3424954545454546\n",
      "0.1371799501745049\n",
      "Power_divergenceResult(statistic=0.5444022433028499, pvalue=1.0)\n"
     ]
    }
   ],
   "source": [
    "print(chi_square_metrics(data_2['t'][1:] * k0 + b0, data_2['p'][1:]))\n",
    "print(chisquare(data_2['p'][1:] ,data_2['t'][1:] * k0 + b0))"
   ]
  },
  {
   "cell_type": "code",
   "execution_count": 26,
   "metadata": {},
   "outputs": [
    {
     "data": {
      "text/plain": [
       "(33,)"
      ]
     },
     "execution_count": 26,
     "metadata": {},
     "output_type": "execute_result"
    }
   ],
   "source": [
    "data_2['t'][1:].shape"
   ]
  },
  {
   "cell_type": "code",
   "execution_count": 6,
   "metadata": {},
   "outputs": [
    {
     "name": "stdout",
     "output_type": "stream",
     "text": [
      "0.10115089684049612\n"
     ]
    }
   ],
   "source": [
    "print(k0)"
   ]
  },
  {
   "cell_type": "code",
   "execution_count": 7,
   "metadata": {},
   "outputs": [
    {
     "data": {
      "text/plain": [
       "Text(0, 0.5, 'p, торр $\\\\cdot 10^{-4}$')"
      ]
     },
     "execution_count": 7,
     "metadata": {},
     "output_type": "execute_result"
    },
    {
     "data": {
      "image/png": "[encoded data removed]",
      "text/plain": [
       "<Figure size 720x504 with 1 Axes>"
      ]
     },
     "metadata": {
      "needs_background": "light"
     },
     "output_type": "display_data"
    }
   ],
   "source": [
    "plt.figure(figsize=(10, 7))\n",
    "\n",
    "plt.errorbar(data_2['t1'].dropna(), data_2['p1'].dropna(), xerr=0.1, yerr=0.1, linestyle = '', label = 'Данные')\n",
    "\n",
    " \n",
    "#k0, b0 = np.polyfit(data_2['t'][1:], data_2['p'][1:], 1) \n",
    "\n",
    "#plt.plot(data_2['t'][1:], data_2['t'][1:] * k0 + b0, color = 'red', label = 'МНК', )\n",
    "\n",
    "plt.xlabel('Время t(c)')\n",
    "plt.ylabel('Давление, мм.рт.стлб * 10^-4')\n",
    "plt.legend()\n",
    "\n",
    "\n",
    "plt.xlabel('t, с')\n",
    "plt.ylabel(r'p, торр $\\cdot 10^{-4}$')"
   ]
  },
  {
   "cell_type": "code",
   "execution_count": 41,
   "metadata": {},
   "outputs": [
    {
     "name": "stdout",
     "output_type": "stream",
     "text": [
      "0.10115089684049612\n"
     ]
    }
   ],
   "source": [
    "print(k0)"
   ]
  },
  {
   "cell_type": "code",
   "execution_count": 9,
   "metadata": {},
   "outputs": [],
   "source": [
    "data_2['p1'] -= data_2['p1'].min()"
   ]
  },
  {
   "cell_type": "code",
   "execution_count": 48,
   "metadata": {},
   "outputs": [
    {
     "data": {
      "text/plain": [
       "<bound method IndexOpsMixin.value_counts of 0     3.53\n",
       "1     3.03\n",
       "2     2.63\n",
       "3     2.23\n",
       "4     1.93\n",
       "5     1.73\n",
       "6     1.33\n",
       "7     1.13\n",
       "8     0.93\n",
       "9     0.73\n",
       "10    0.63\n",
       "11    0.53\n",
       "12    0.43\n",
       "13    0.33\n",
       "14    0.29\n",
       "15    0.26\n",
       "16    0.18\n",
       "17    0.14\n",
       "18    0.08\n",
       "19    0.06\n",
       "20    0.05\n",
       "21    0.04\n",
       "22    0.03\n",
       "23    0.02\n",
       "24    0.01\n",
       "Name: p1, dtype: float64>"
      ]
     },
     "execution_count": 48,
     "metadata": {},
     "output_type": "execute_result"
    }
   ],
   "source": [
    "data_2['p1'].dropna()[:-1].value_counts"
   ]
  },
  {
   "cell_type": "code",
   "execution_count": 11,
   "metadata": {},
   "outputs": [
    {
     "name": "stderr",
     "output_type": "stream",
     "text": [
      "/home/matthew/.local/lib/python3.10/site-packages/pandas/core/arraylike.py:397: RuntimeWarning: divide by zero encountered in log\n",
      "  result = getattr(ufunc, method)(*inputs, **kwargs)\n"
     ]
    },
    {
     "data": {
      "text/plain": [
       "Text(0, 0.5, '$\\\\log(p - p_{крит})$, $ \\\\cdot 10^{-4}$')"
      ]
     },
     "execution_count": 11,
     "metadata": {},
     "output_type": "execute_result"
    },
    {
     "data": {
      "image/png": "[encoded data removed]",
      "text/plain": [
       "<Figure size 720x504 with 1 Axes>"
      ]
     },
     "metadata": {
      "needs_background": "light"
     },
     "output_type": "display_data"
    }
   ],
   "source": [
    "plt.figure(figsize=(10, 7))\n",
    "\n",
    "plt.errorbar(data_2['t1'].dropna()[:-1], np.log(data_2['p1'].dropna())[:-1], xerr=0.1, yerr=0.1, linestyle = '', label = 'Данные')\n",
    "\n",
    " \n",
    "k1, b1 = np.polyfit(data_2['t1'].dropna()[:-1], np.log(data_2['p1'].dropna())[:-1], 1) \n",
    "\n",
    "plt.plot(data_2['t1'].dropna()[:-1], data_2['t1'].dropna()[:-1] * k1 + b1, color = 'red', label = 'МНК', )\n",
    "\n",
    "plt.xlabel('Время t(c)')\n",
    "plt.ylabel('log(p)')\n",
    "plt.legend()\n",
    "\n",
    "\n",
    "plt.xlabel('t, с')\n",
    "plt.ylabel(r'$\\log(p - p_{крит})$, $ \\cdot 10^{-4}$')"
   ]
  },
  {
   "cell_type": "code",
   "execution_count": 51,
   "metadata": {},
   "outputs": [
    {
     "data": {
      "text/plain": [
       "-0.13486355323367102"
      ]
     },
     "execution_count": 51,
     "metadata": {},
     "output_type": "execute_result"
    }
   ],
   "source": [
    "chi_square_metrics(data_2['t1'].dropna()[:-1] * k1 + b1, np.log(data_2['p1'].dropna())[:-1])"
   ]
  },
  {
   "cell_type": "code",
   "execution_count": 12,
   "metadata": {},
   "outputs": [
    {
     "data": {
      "text/plain": [
       "-0.23356578722470805"
      ]
     },
     "execution_count": 12,
     "metadata": {},
     "output_type": "execute_result"
    }
   ],
   "source": [
    "k1"
   ]
  }
 ],
 "metadata": {
  "kernelspec": {
   "display_name": "Python 3 (ipykernel)",
   "language": "python",
   "name": "python3"
  },
  "language_info": {
   "codemirror_mode": {
    "name": "ipython",
    "version": 3
   },
   "file_extension": ".py",
   "mimetype": "text/x-python",
   "name": "python",
   "nbconvert_exporter": "python",
   "pygments_lexer": "ipython3",
   "version": "3.10.6"
  },
  "vscode": {
   "interpreter": {
    "hash": "916dbcbb3f70747c44a77c7bcd40155683ae19c65e1c03b4aa3499c5328201f1"
   }
  }
 },
 "nbformat": 4,
 "nbformat_minor": 2
}
