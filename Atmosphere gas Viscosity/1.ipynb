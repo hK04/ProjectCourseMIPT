{
 "cells": [
  {
   "cell_type": "markdown",
   "metadata": {},
   "source": [
    "$$ Q_{криит} = u \\cdot \\pi \\cdot r^2$$\n",
    "$$ Re  = \\frac{\\rho u R}{\\eta} \\Rightarrow  Q = \\frac{Re \\cdot \\eta}{\\rho} \\cdot r \\pi \\ \\propto \\ 2.16 \\cdot 10^{-4} $$\n",
    "$$ Q = \\frac{\\pi R^4 \\Delta P}{8 \\eta l} \\Rightarrow \\Delta P = \\frac{Re \\cdot \\eta}{\\rho r} \\cdot r^2 \\pi \\  \\cdot \\frac{8 \\eta l}{\\pi r^4} = \\frac{Re \\cdot 8 \\eta^2 l}{\\rho \\cdot r^3} = 4.68 \\cdot 10^{1} \\ Па$$ \n",
    "$$ l = 0.2 \\cdot r  Re = 0.82 \\ м$$"
   ]
  },
  {
   "cell_type": "code",
   "execution_count": 21,
   "metadata": {},
   "outputs": [],
   "source": [
    "import pandas as pd \n",
    "import numpy as np\n",
    "import matplotlib.pyplot as plt \n",
    "import seaborn as sns\n",
    "from scipy.stats import chisquare"
   ]
  },
  {
   "cell_type": "code",
   "execution_count": 2,
   "metadata": {},
   "outputs": [],
   "source": [
    "def chi_square_metrics(expected, observed) -> float:\n",
    "    #print(observed.var()), .var()\n",
    "    return ((expected - observed) ** 2 / observed).sum()"
   ]
  },
  {
   "cell_type": "code",
   "execution_count": 3,
   "metadata": {},
   "outputs": [],
   "source": [
    "sns.set_style('darkgrid')"
   ]
  },
  {
   "cell_type": "code",
   "execution_count": 4,
   "metadata": {},
   "outputs": [],
   "source": [
    "data_first = pd.read_csv('data_1.csv')"
   ]
  },
  {
   "cell_type": "code",
   "execution_count": 5,
   "metadata": {},
   "outputs": [
    {
     "data": {
      "text/html": [
       "<div>\n",
       "<style scoped>\n",
       "    .dataframe tbody tr th:only-of-type {\n",
       "        vertical-align: middle;\n",
       "    }\n",
       "\n",
       "    .dataframe tbody tr th {\n",
       "        vertical-align: top;\n",
       "    }\n",
       "\n",
       "    .dataframe thead th {\n",
       "        text-align: right;\n",
       "    }\n",
       "</style>\n",
       "<table border=\"1\" class=\"dataframe\">\n",
       "  <thead>\n",
       "    <tr style=\"text-align: right;\">\n",
       "      <th></th>\n",
       "      <th>длина</th>\n",
       "      <th>номер измерения</th>\n",
       "      <th>Q(мл/с)</th>\n",
       "    </tr>\n",
       "  </thead>\n",
       "  <tbody>\n",
       "    <tr>\n",
       "      <th>0</th>\n",
       "      <td>6</td>\n",
       "      <td>1</td>\n",
       "      <td>3.2</td>\n",
       "    </tr>\n",
       "    <tr>\n",
       "      <th>1</th>\n",
       "      <td>10</td>\n",
       "      <td>2</td>\n",
       "      <td>2.1</td>\n",
       "    </tr>\n",
       "    <tr>\n",
       "      <th>2</th>\n",
       "      <td>15</td>\n",
       "      <td>3</td>\n",
       "      <td>9.7</td>\n",
       "    </tr>\n",
       "    <tr>\n",
       "      <th>3</th>\n",
       "      <td>19</td>\n",
       "      <td>4</td>\n",
       "      <td>11.6</td>\n",
       "    </tr>\n",
       "    <tr>\n",
       "      <th>4</th>\n",
       "      <td>25</td>\n",
       "      <td>5</td>\n",
       "      <td>13.1</td>\n",
       "    </tr>\n",
       "  </tbody>\n",
       "</table>\n",
       "</div>"
      ],
      "text/plain": [
       "   длина  номер измерения  Q(мл/с)\n",
       "0      6                1      3.2\n",
       "1     10                2      2.1\n",
       "2     15                3      9.7\n",
       "3     19                4     11.6\n",
       "4     25                5     13.1"
      ]
     },
     "execution_count": 5,
     "metadata": {},
     "output_type": "execute_result"
    }
   ],
   "source": [
    "data_first.head()"
   ]
  },
  {
   "cell_type": "code",
   "execution_count": 6,
   "metadata": {},
   "outputs": [
    {
     "data": {
      "text/plain": [
       "Text(0, 0.5, 'Q, $\\\\frac{мл}{с}$')"
      ]
     },
     "execution_count": 6,
     "metadata": {},
     "output_type": "execute_result"
    },
    {
     "data": {
      "image/png": "[encoded data removed]",
      "text/plain": [
       "<Figure size 720x504 with 1 Axes>"
      ]
     },
     "metadata": {
      "needs_background": "light"
     },
     "output_type": "display_data"
    }
   ],
   "source": [
    "\n",
    "plt.figure(figsize=(10, 7))\n",
    "plt.title('Q(L)')\n",
    "plt.errorbar(data_first['длина'], data_first['Q(мл/с)'], yerr = 0.01, xerr=1, linestyle='', color = 'red')\n",
    "\n",
    "k, b = np.polyfit(data_first['длина'][:16], data_first['Q(мл/с)'][:16], deg=1)\n",
    "\n",
    "plt.plot(data_first['длина'], data_first['длина'] * k + b)\n",
    "plt.xlabel(r'l, мм')\n",
    "plt.ylabel(r'Q, $\\frac{мл}{с}$')"
   ]
  },
  {
   "cell_type": "code",
   "execution_count": 20,
   "metadata": {},
   "outputs": [
    {
     "data": {
      "text/plain": [
       "2.981652681629386"
      ]
     },
     "execution_count": 20,
     "metadata": {},
     "output_type": "execute_result"
    }
   ],
   "source": [
    "chi(data_first['Q(мл/с)'][:16], data_first['длина'][:16] * k + b)"
   ]
  },
  {
   "cell_type": "code",
   "execution_count": 8,
   "metadata": {},
   "outputs": [
    {
     "name": "stdout",
     "output_type": "stream",
     "text": [
      "0.6244408346869926\n"
     ]
    }
   ],
   "source": [
    "print(k)"
   ]
  },
  {
   "cell_type": "code",
   "execution_count": 9,
   "metadata": {},
   "outputs": [],
   "source": [
    "data_second = pd.read_csv('data_2.csv')"
   ]
  },
  {
   "cell_type": "code",
   "execution_count": 10,
   "metadata": {},
   "outputs": [
    {
     "data": {
      "text/html": [
       "<div>\n",
       "<style scoped>\n",
       "    .dataframe tbody tr th:only-of-type {\n",
       "        vertical-align: middle;\n",
       "    }\n",
       "\n",
       "    .dataframe tbody tr th {\n",
       "        vertical-align: top;\n",
       "    }\n",
       "\n",
       "    .dataframe thead th {\n",
       "        text-align: right;\n",
       "    }\n",
       "</style>\n",
       "<table border=\"1\" class=\"dataframe\">\n",
       "  <thead>\n",
       "    <tr style=\"text-align: right;\">\n",
       "      <th></th>\n",
       "      <th>длина</th>\n",
       "      <th>номер измерения</th>\n",
       "      <th>Q(мл/с)</th>\n",
       "    </tr>\n",
       "  </thead>\n",
       "  <tbody>\n",
       "    <tr>\n",
       "      <th>0</th>\n",
       "      <td>10</td>\n",
       "      <td>27.1</td>\n",
       "      <td>NaN</td>\n",
       "    </tr>\n",
       "    <tr>\n",
       "      <th>1</th>\n",
       "      <td>20</td>\n",
       "      <td>46.2</td>\n",
       "      <td>NaN</td>\n",
       "    </tr>\n",
       "    <tr>\n",
       "      <th>2</th>\n",
       "      <td>30</td>\n",
       "      <td>68.8</td>\n",
       "      <td>NaN</td>\n",
       "    </tr>\n",
       "    <tr>\n",
       "      <th>3</th>\n",
       "      <td>40</td>\n",
       "      <td>97.1</td>\n",
       "      <td>NaN</td>\n",
       "    </tr>\n",
       "    <tr>\n",
       "      <th>4</th>\n",
       "      <td>51</td>\n",
       "      <td>118.1</td>\n",
       "      <td>NaN</td>\n",
       "    </tr>\n",
       "    <tr>\n",
       "      <th>5</th>\n",
       "      <td>60</td>\n",
       "      <td>134.4</td>\n",
       "      <td>NaN</td>\n",
       "    </tr>\n",
       "    <tr>\n",
       "      <th>6</th>\n",
       "      <td>70</td>\n",
       "      <td>144.3</td>\n",
       "      <td>NaN</td>\n",
       "    </tr>\n",
       "    <tr>\n",
       "      <th>7</th>\n",
       "      <td>82</td>\n",
       "      <td>147.5</td>\n",
       "      <td>NaN</td>\n",
       "    </tr>\n",
       "    <tr>\n",
       "      <th>8</th>\n",
       "      <td>90</td>\n",
       "      <td>162.5</td>\n",
       "      <td>NaN</td>\n",
       "    </tr>\n",
       "    <tr>\n",
       "      <th>9</th>\n",
       "      <td>99</td>\n",
       "      <td>152.9</td>\n",
       "      <td>NaN</td>\n",
       "    </tr>\n",
       "  </tbody>\n",
       "</table>\n",
       "</div>"
      ],
      "text/plain": [
       "   длина  номер измерения  Q(мл/с)\n",
       "0     10             27.1      NaN\n",
       "1     20             46.2      NaN\n",
       "2     30             68.8      NaN\n",
       "3     40             97.1      NaN\n",
       "4     51            118.1      NaN\n",
       "5     60            134.4      NaN\n",
       "6     70            144.3      NaN\n",
       "7     82            147.5      NaN\n",
       "8     90            162.5      NaN\n",
       "9     99            152.9      NaN"
      ]
     },
     "execution_count": 10,
     "metadata": {},
     "output_type": "execute_result"
    }
   ],
   "source": [
    "data_second.head(10)"
   ]
  },
  {
   "cell_type": "code",
   "execution_count": 11,
   "metadata": {},
   "outputs": [
    {
     "data": {
      "text/plain": [
       "Text(0, 0.5, 'Q, $\\\\frac{мл}{с}$')"
      ]
     },
     "execution_count": 11,
     "metadata": {},
     "output_type": "execute_result"
    },
    {
     "data": {
      "image/png": "[encoded data removed]",
      "text/plain": [
       "<Figure size 720x504 with 1 Axes>"
      ]
     },
     "metadata": {
      "needs_background": "light"
     },
     "output_type": "display_data"
    }
   ],
   "source": [
    "\n",
    "plt.figure(figsize=(10, 7))\n",
    "plt.title('Q(L)')\n",
    "plt.errorbar(data_second['длина'], data_second['номер измерения'], yerr = 0.01, xerr=1, linestyle='', color = 'red')\n",
    "\n",
    "k_2, b_2 = np.polyfit(data_second['длина'][:8], data_second['номер измерения'][:8], deg=1)\n",
    "\n",
    "plt.plot(data_second['длина'], data_second['длина'] * k_2 + b_2)\n",
    "plt.xlabel(r'l, мм')\n",
    "plt.ylabel(r'Q, $\\frac{мл}{с}$')"
   ]
  },
  {
   "cell_type": "code",
   "execution_count": null,
   "metadata": {},
   "outputs": [],
   "source": []
  },
  {
   "cell_type": "code",
   "execution_count": 12,
   "metadata": {},
   "outputs": [
    {
     "name": "stdout",
     "output_type": "stream",
     "text": [
      "1.808684792282736\n"
     ]
    }
   ],
   "source": [
    "print(k_2)"
   ]
  },
  {
   "cell_type": "code",
   "execution_count": 13,
   "metadata": {},
   "outputs": [
    {
     "data": {
      "text/plain": [
       "137.55892465067492"
      ]
     },
     "execution_count": 13,
     "metadata": {},
     "output_type": "execute_result"
    }
   ],
   "source": [
    "chi_square_metrics(data_second['длина'] * k_2 + b_2, data_second['номер измерения'])"
   ]
  },
  {
   "cell_type": "code",
   "execution_count": 14,
   "metadata": {},
   "outputs": [],
   "source": [
    "def string_to_arr(x):\n",
    "    return np.sort(np.array(list(map(int, x.split()))))"
   ]
  },
  {
   "cell_type": "code",
   "execution_count": 15,
   "metadata": {},
   "outputs": [],
   "source": [
    "p_1 = string_to_arr('79\t57\t33\t47\t25\t23')\n",
    "l_1 = string_to_arr('120\t90\t50\t70\t40\t30')\n",
    "\n",
    "p_2 = string_to_arr('46\t 33\t18\t23\t15\t12')\n",
    "l_2 = string_to_arr('120\t90\t50\t70\t40\t30')"
   ]
  },
  {
   "cell_type": "code",
   "execution_count": 16,
   "metadata": {},
   "outputs": [
    {
     "data": {
      "text/plain": [
       "Text(0, 0.5, 'P, мм')"
      ]
     },
     "execution_count": 16,
     "metadata": {},
     "output_type": "execute_result"
    },
    {
     "data": {
      "image/png": "[encoded data removed]",
      "text/plain": [
       "<Figure size 720x504 with 1 Axes>"
      ]
     },
     "metadata": {
      "needs_background": "light"
     },
     "output_type": "display_data"
    }
   ],
   "source": [
    "\n",
    "plt.figure(figsize=(10, 7))\n",
    "plt.title('P(L) распределение по длине')\n",
    "plt.errorbar(l_1, p_1, yerr = 0.01, xerr=1, linestyle='', color = 'red', label = 'd = 5.2 мм')\n",
    "plt.errorbar(l_2, p_2, yerr = 0.01, xerr=1, linestyle='', color = 'green', label = 'd = 3.0 мм')\n",
    "\n",
    "k__1, b__1 = np.polyfit(l_1, p_1, deg=1)\n",
    "k__2, b__2 = np.polyfit(l_2, p_2, deg=1)\n",
    "\n",
    "\n",
    "k__3, b__3 = np.polyfit(l_1[3:], p_1[3:], deg=1)\n",
    "k__4, b__4 = np.polyfit(l_2[3:], p_2[3:], deg=1)\n",
    "\n",
    "plt.plot(l_1, l_1 * k__1 + b__1, color = 'red')\n",
    "plt.plot(l_1, l_1 * k__3 + b__3, color = 'black', linestyle = ':', label = 'Только устоявшиеся 5.2 мм')\n",
    "plt.plot(l_2, l_2 * k__2 + b__2, color = 'green')\n",
    "plt.plot(l_2, l_2 * k__4 + b__4, color = 'black', linestyle = ':', label = 'Только устоявшиеся 3 мм')\n",
    "\n",
    "plt.legend()\n",
    "plt.xlabel(r'l, см')\n",
    "plt.ylabel(r'P, мм')"
   ]
  },
  {
   "cell_type": "code",
   "execution_count": 17,
   "metadata": {},
   "outputs": [
    {
     "data": {
      "text/plain": [
       "array([ 70,  90, 120])"
      ]
     },
     "execution_count": 17,
     "metadata": {},
     "output_type": "execute_result"
    }
   ],
   "source": [
    "l_1[3:]"
   ]
  },
  {
   "cell_type": "code",
   "execution_count": 18,
   "metadata": {},
   "outputs": [
    {
     "name": "stdout",
     "output_type": "stream",
     "text": [
      "91.86813186813188\n"
     ]
    }
   ],
   "source": [
    "print((60 - b__1)/k__1)"
   ]
  },
  {
   "cell_type": "code",
   "execution_count": 19,
   "metadata": {},
   "outputs": [
    {
     "ename": "TypeError",
     "evalue": "'Series' object cannot be interpreted as an integer",
     "output_type": "error",
     "traceback": [
      "\u001b[0;31m---------------------------------------------------------------------------\u001b[0m",
      "\u001b[0;31mTypeError\u001b[0m                                 Traceback (most recent call last)",
      "Input \u001b[0;32mIn [19]\u001b[0m, in \u001b[0;36m<cell line: 3>\u001b[0;34m()\u001b[0m\n\u001b[1;32m      1\u001b[0m plt\u001b[38;5;241m.\u001b[39mfigure(figsize\u001b[38;5;241m=\u001b[39m(\u001b[38;5;241m10\u001b[39m, \u001b[38;5;241m7\u001b[39m))\n\u001b[1;32m      2\u001b[0m plt\u001b[38;5;241m.\u001b[39mtitle(\u001b[38;5;124m'\u001b[39m\u001b[38;5;124mQ(L)\u001b[39m\u001b[38;5;124m'\u001b[39m)\n\u001b[0;32m----> 3\u001b[0m plt\u001b[38;5;241m.\u001b[39merrorbar(\u001b[43mnp\u001b[49m\u001b[38;5;241;43m.\u001b[39;49m\u001b[43mconcatenate\u001b[49m\u001b[43m(\u001b[49m\u001b[43mdata_first\u001b[49m\u001b[43m[\u001b[49m\u001b[38;5;124;43m'\u001b[39;49m\u001b[38;5;124;43mдлина\u001b[39;49m\u001b[38;5;124;43m'\u001b[39;49m\u001b[43m]\u001b[49m\u001b[43m,\u001b[49m\u001b[43m \u001b[49m\u001b[43mdata_second\u001b[49m\u001b[43m[\u001b[49m\u001b[38;5;124;43m'\u001b[39;49m\u001b[38;5;124;43mдлина\u001b[39;49m\u001b[38;5;124;43m'\u001b[39;49m\u001b[43m]\u001b[49m\u001b[43m)\u001b[49m, data_first[\u001b[38;5;124m'\u001b[39m\u001b[38;5;124mQ(мл/с)\u001b[39m\u001b[38;5;124m'\u001b[39m], yerr \u001b[38;5;241m=\u001b[39m \u001b[38;5;241m0.01\u001b[39m, xerr\u001b[38;5;241m=\u001b[39m\u001b[38;5;241m1\u001b[39m, linestyle\u001b[38;5;241m=\u001b[39m\u001b[38;5;124m'\u001b[39m\u001b[38;5;124m'\u001b[39m, color \u001b[38;5;241m=\u001b[39m \u001b[38;5;124m'\u001b[39m\u001b[38;5;124mred\u001b[39m\u001b[38;5;124m'\u001b[39m)\n\u001b[1;32m      5\u001b[0m k, b \u001b[38;5;241m=\u001b[39m np\u001b[38;5;241m.\u001b[39mpolyfit(data_first[\u001b[38;5;124m'\u001b[39m\u001b[38;5;124mдлина\u001b[39m\u001b[38;5;124m'\u001b[39m][:\u001b[38;5;241m16\u001b[39m], data_first[\u001b[38;5;124m'\u001b[39m\u001b[38;5;124mQ(мл/с)\u001b[39m\u001b[38;5;124m'\u001b[39m][:\u001b[38;5;241m16\u001b[39m], deg\u001b[38;5;241m=\u001b[39m\u001b[38;5;241m1\u001b[39m)\n\u001b[1;32m      7\u001b[0m plt\u001b[38;5;241m.\u001b[39mplot(data_first[\u001b[38;5;124m'\u001b[39m\u001b[38;5;124mдлина\u001b[39m\u001b[38;5;124m'\u001b[39m], data_first[\u001b[38;5;124m'\u001b[39m\u001b[38;5;124mдлина\u001b[39m\u001b[38;5;124m'\u001b[39m] \u001b[38;5;241m*\u001b[39m k \u001b[38;5;241m+\u001b[39m b)\n",
      "File \u001b[0;32m<__array_function__ internals>:180\u001b[0m, in \u001b[0;36mconcatenate\u001b[0;34m(*args, **kwargs)\u001b[0m\n",
      "\u001b[0;31mTypeError\u001b[0m: 'Series' object cannot be interpreted as an integer"
     ]
    },
    {
     "data": {
      "image/png": "[encoded data removed]",
      "text/plain": [
       "<Figure size 720x504 with 1 Axes>"
      ]
     },
     "metadata": {
      "needs_background": "light"
     },
     "output_type": "display_data"
    }
   ],
   "source": [
    "\n",
    "plt.figure(figsize=(10, 7))\n",
    "plt.title('Q(L)')\n",
    "plt.errorbar(np.concatenate(data_first['длина'], data_second['длина']), data_first['Q(мл/с)'], yerr = 0.01, xerr=1, linestyle='', color = 'red')\n",
    "\n",
    "k, b = np.polyfit(data_first['длина'][:16], data_first['Q(мл/с)'][:16], deg=1)\n",
    "\n",
    "plt.plot(data_first['длина'], data_first['длина'] * k + b)\n",
    "plt.xlabel(r'l, мм')\n",
    "plt.ylabel(r'Q, $\\frac{мл}{с}$')"
   ]
  },
  {
   "cell_type": "code",
   "execution_count": null,
   "metadata": {},
   "outputs": [],
   "source": [
    "data_third = pd.read_csv('data_3.csv')"
   ]
  },
  {
   "cell_type": "code",
   "execution_count": null,
   "metadata": {},
   "outputs": [],
   "source": [
    "data_third.head()"
   ]
  },
  {
   "cell_type": "code",
   "execution_count": null,
   "metadata": {},
   "outputs": [],
   "source": [
    "\n",
    "plt.figure(figsize=(10, 7))\n",
    "plt.title('Q(L)')\n",
    "plt.errorbar(data_third['длина'], data_third['Q(мл/с)'], yerr = 0.01, xerr=1, linestyle='', color = 'red')\n",
    "\n",
    "#k_2, b_2 = np.polyfit(data_second['длина'][:8], data_second['номер измерения'][:8], deg=1)\n",
    "\n",
    "#plt.plot(data_second['длина'], data_second['длина'] * k_2 + b_2)\n",
    "plt.xlabel(r'l, мм')\n",
    "plt.ylabel(r'Q, $\\frac{мл}{с}$')"
   ]
  },
  {
   "cell_type": "code",
   "execution_count": null,
   "metadata": {},
   "outputs": [],
   "source": [
    "\n",
    "plt.figure(figsize=(10, 7))\n",
    "plt.title('Q(L)')\n",
    "plt.errorbar(data_third['длина'], data_third['Q(мл/с)'], yerr = 0.01, xerr=1, linestyle='', color = 'red')\n",
    "\n",
    "#k_2, b_2 = np.polyfit(data_second['длина'][:8], data_second['номер измерения'][:8], deg=1)\n",
    "\n",
    "#plt.plot(data_second['длина'], data_second['длина'] * k_2 + b_2)\n",
    "plt.xlabel(r'l, мм')\n",
    "plt.ylabel(r'Q, $\\frac{мл}{с}$')"
   ]
  },
  {
   "cell_type": "code",
   "execution_count": null,
   "metadata": {},
   "outputs": [],
   "source": [
    "y = np.array([np.log(8 * 2 * 9.8 * 0.18 * 1.2 * 2.06 * 10 ** (-5) / 3.1415), np.log(8 * 2 * 9.8 * 0.62 * 1.2 * 2.06 * 10 ** (-5) / 3.1415), np.log(8 * 2 * 9.8 * 1.8 * 1.2 * 2.06 * 10 ** (-5) / 3.1415)])\n",
    "x = np.array([np.log(3/1000) ,np.log(4.1/1000), np.log(5.2/1000)])\n",
    "\n",
    "plt.figure(figsize=(10, 7))\n",
    "plt.title(r'$log(\\frac{8 Q l \\eta}{\\pi \\Delta P}) \\ от \\ (log(r))$')\n",
    "plt.errorbar(x, y, yerr=0.01, xerr=0.01,linestyle = '')\n",
    "\n",
    "k_ps, b_ps = np.polyfit(x, y, deg=1)\n",
    "\n",
    "plt.plot(x, k_ps * x + b_ps)\n",
    "plt.xlabel('log(r)')\n",
    "plt.ylabel(r'$log(\\frac{8 Q l \\eta}{\\pi \\Delta P})$')"
   ]
  },
  {
   "cell_type": "code",
   "execution_count": null,
   "metadata": {},
   "outputs": [],
   "source": [
    "0.18 * 60"
   ]
  },
  {
   "cell_type": "code",
   "execution_count": null,
   "metadata": {},
   "outputs": [],
   "source": [
    "k_ps"
   ]
  }
 ],
 "metadata": {
  "kernelspec": {
   "display_name": "Python 3 (ipykernel)",
   "language": "python",
   "name": "python3"
  },
  "language_info": {
   "codemirror_mode": {
    "name": "ipython",
    "version": 3
   },
   "file_extension": ".py",
   "mimetype": "text/x-python",
   "name": "python",
   "nbconvert_exporter": "python",
   "pygments_lexer": "ipython3",
   "version": "3.10.6"
  },
  "vscode": {
   "interpreter": {
    "hash": "916dbcbb3f70747c44a77c7bcd40155683ae19c65e1c03b4aa3499c5328201f1"
   }
  }
 },
 "nbformat": 4,
 "nbformat_minor": 2
}
